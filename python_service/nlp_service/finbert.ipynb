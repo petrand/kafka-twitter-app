{
 "cells": [
  {
   "cell_type": "code",
   "execution_count": 1,
   "metadata": {},
   "outputs": [
    {
     "data": {
      "application/vnd.jupyter.widget-view+json": {
       "model_id": "d5d71cd1a2f246778f95f51ed94a2737",
       "version_major": 2,
       "version_minor": 0
      },
      "text/plain": [
       "Downloading:   0%|          | 0.00/418M [00:00<?, ?B/s]"
      ]
     },
     "metadata": {},
     "output_type": "display_data"
    }
   ],
   "source": [
    "from transformers import AutoTokenizer, AutoModelForSequenceClassification\n",
    "\n",
    "tokenizer = AutoTokenizer.from_pretrained(\"ProsusAI/finbert\")\n",
    "\n",
    "model = AutoModelForSequenceClassification.from_pretrained(\"ProsusAI/finbert\")"
   ]
  },
  {
   "cell_type": "code",
   "execution_count": 15,
   "metadata": {},
   "outputs": [
    {
     "name": "stderr",
     "output_type": "stream",
     "text": [
      "[nltk_data] Downloading package punkt to /root/nltk_data...\n",
      "[nltk_data]   Package punkt is already up-to-date!\n"
     ]
    },
    {
     "data": {
      "text/plain": [
       "True"
      ]
     },
     "execution_count": 15,
     "metadata": {},
     "output_type": "execute_result"
    }
   ],
   "source": [
    "import nltk\n",
    "import pandas as pd\n",
    "from nltk.tokenize import sent_tokenize\n",
    "\n",
    "import numpy as np\n",
    "from utils import *\n",
    "nltk.download('punkt')"
   ]
  },
  {
   "cell_type": "code",
   "execution_count": 9,
   "metadata": {},
   "outputs": [],
   "source": [
    "def predict(text, model, batch_size=5):\n",
    "    model.eval()\n",
    "    sentences = sent_tokenize(text)\n",
    "    label_list = ['positive', 'negative', 'neutral']\n",
    "    label_dict = {0: 'positive', 1: 'negative', 2: 'neutral'}\n",
    "    device = \"cpu\"\n",
    "    result = pd.DataFrame(columns=['sentence', 'logit', 'prediction', 'sentiment_score'])\n",
    "    for batch in chunks(sentences, batch_size):\n",
    "        examples = [InputExample(str(i), sentence) for i, sentence in enumerate(batch)]\n",
    "        features = convert_examples_to_features(examples, label_list, 64, tokenizer)\n",
    "\n",
    "        all_input_ids = torch.tensor([f.input_ids for f in features], dtype=torch.long).to(device)\n",
    "        all_attention_mask = torch.tensor([f.attention_mask for f in features], dtype=torch.long).to(device)\n",
    "        all_token_type_ids = torch.tensor([f.token_type_ids for f in features], dtype=torch.long).to(device)\n",
    "\n",
    "        with torch.no_grad():\n",
    "            model     = model.to(device)\n",
    "\n",
    "            logits = model(all_input_ids, all_attention_mask, all_token_type_ids)[0]\n",
    "            logging.info(logits)\n",
    "            logits = softmax(np.array(logits.cpu()))\n",
    "            sentiment_score = pd.Series(logits[:, 0] - logits[:, 1])\n",
    "            predictions = np.squeeze(np.argmax(logits, axis=1))\n",
    "\n",
    "            batch_result = {'sentence': batch,\n",
    "                            'logit': list(logits),\n",
    "                            'prediction': predictions,\n",
    "                            'sentiment_score': sentiment_score}\n",
    "\n",
    "            batch_result = pd.DataFrame(batch_result)\n",
    "            result = pd.concat([result, batch_result], ignore_index=True)\n",
    "\n",
    "    result['prediction'] = result.prediction.apply(lambda x: label_dict[x])\n",
    "    return result"
   ]
  },
  {
   "cell_type": "code",
   "execution_count": 16,
   "metadata": {},
   "outputs": [],
   "source": [
    "text = \"Later that day Apple said it was revising down its earnings expectations in \\\n",
    "the fourth quarter of 2018, largely because of lower sales and signs of economic weakness in China. \\\n",
    "The news rapidly infected financial markets. Apple’s share price fell by around 7% in after-hours \\\n",
    "trading and the decline was extended to more than 10% when the market opened. The dollar fell \\\n",
    "by 3.7% against the yen in a matter of minutes after the announcement, before rapidly recovering \\\n",
    "some ground. Asian stockmarkets closed down on January 3rd and European ones opened lower. \\\n",
    "Yields on government bonds fell as investors fled to the traditional haven in a market storm.\""
   ]
  },
  {
   "cell_type": "code",
   "execution_count": 18,
   "metadata": {},
   "outputs": [
    {
     "name": "stderr",
     "output_type": "stream",
     "text": [
      "06/05/2022 00:21:03 - INFO - utils -   *** Example ***\n",
      "06/05/2022 00:21:03 - INFO - utils -   guid: 0\n",
      "06/05/2022 00:21:03 - INFO - utils -   tokens: [CLS] later that day apple said it was rev ##ising down its earnings expectations in the fourth quarter of 2018 , largely because of lower sales and signs of economic weakness in china . [SEP]\n",
      "06/05/2022 00:21:03 - INFO - utils -   input_ids: 101 2101 2008 2154 6207 2056 2009 2001 7065 9355 2091 2049 16565 10908 1999 1996 2959 4284 1997 2760 1010 4321 2138 1997 2896 4341 1998 5751 1997 3171 11251 1999 2859 1012 102 0 0 0 0 0 0 0 0 0 0 0 0 0 0 0 0 0 0 0 0 0 0 0 0 0 0 0 0 0\n",
      "06/05/2022 00:21:03 - INFO - utils -   attention_mask: 1 1 1 1 1 1 1 1 1 1 1 1 1 1 1 1 1 1 1 1 1 1 1 1 1 1 1 1 1 1 1 1 1 1 1 0 0 0 0 0 0 0 0 0 0 0 0 0 0 0 0 0 0 0 0 0 0 0 0 0 0 0 0 0\n",
      "06/05/2022 00:21:03 - INFO - utils -   token_type_ids: 0 0 0 0 0 0 0 0 0 0 0 0 0 0 0 0 0 0 0 0 0 0 0 0 0 0 0 0 0 0 0 0 0 0 0 0 0 0 0 0 0 0 0 0 0 0 0 0 0 0 0 0 0 0 0 0 0 0 0 0 0 0 0 0\n",
      "06/05/2022 00:21:03 - INFO - utils -   label: None (id = 9090)\n",
      "06/05/2022 00:21:04 - INFO - root -   tensor([[-1.8599,  2.9973, -0.5464],\n",
      "        [-1.5847,  2.3507,  0.2129],\n",
      "        [-1.8957,  3.0910, -0.8241],\n",
      "        [-0.6706,  2.2444, -1.6912],\n",
      "        [-1.8919,  3.0583, -0.7770]])\n",
      "06/05/2022 00:21:04 - INFO - utils -   *** Example ***\n",
      "06/05/2022 00:21:04 - INFO - utils -   guid: 0\n",
      "06/05/2022 00:21:04 - INFO - utils -   tokens: [CLS] yields on government bonds fell as investors fled to the traditional haven in a market storm . [SEP]\n",
      "06/05/2022 00:21:04 - INFO - utils -   input_ids: 101 16189 2006 2231 9547 3062 2004 9387 6783 2000 1996 3151 4033 1999 1037 3006 4040 1012 102 0 0 0 0 0 0 0 0 0 0 0 0 0 0 0 0 0 0 0 0 0 0 0 0 0 0 0 0 0 0 0 0 0 0 0 0 0 0 0 0 0 0 0 0 0\n",
      "06/05/2022 00:21:04 - INFO - utils -   attention_mask: 1 1 1 1 1 1 1 1 1 1 1 1 1 1 1 1 1 1 1 0 0 0 0 0 0 0 0 0 0 0 0 0 0 0 0 0 0 0 0 0 0 0 0 0 0 0 0 0 0 0 0 0 0 0 0 0 0 0 0 0 0 0 0 0\n",
      "06/05/2022 00:21:04 - INFO - utils -   token_type_ids: 0 0 0 0 0 0 0 0 0 0 0 0 0 0 0 0 0 0 0 0 0 0 0 0 0 0 0 0 0 0 0 0 0 0 0 0 0 0 0 0 0 0 0 0 0 0 0 0 0 0 0 0 0 0 0 0 0 0 0 0 0 0 0 0\n",
      "06/05/2022 00:21:04 - INFO - utils -   label: None (id = 9090)\n",
      "06/05/2022 00:21:04 - INFO - root -   tensor([[-1.7884,  2.8552, -0.5911]])\n"
     ]
    },
    {
     "name": "stdout",
     "output_type": "stream",
     "text": [
      "                                            sentence  \\\n",
      "0  Later that day Apple said it was revising down...   \n",
      "1       The news rapidly infected financial markets.   \n",
      "2  Apple’s share price fell by around 7% in after...   \n",
      "3  The dollar fell by 3.7% against the yen in a m...   \n",
      "4  Asian stockmarkets closed down on January 3rd ...   \n",
      "5  Yields on government bonds fell as investors f...   \n",
      "\n",
      "                                     logit prediction sentiment_score  \n",
      "0  [0.0074973884, 0.96461785, 0.027884703]   negative        -0.95712  \n",
      "1    [0.017176522, 0.87915826, 0.10366525]   negative       -0.861982  \n",
      "2  [0.0066501475, 0.97392964, 0.019420119]   negative       -0.967279  \n",
      "3     [0.050482538, 0.9313251, 0.01819236]   negative       -0.880843  \n",
      "4    [0.0068846154, 0.972121, 0.020994334]   negative       -0.965236  \n",
      "5   [0.009239607, 0.96016717, 0.030593174]   negative       -0.950928  \n",
      "-0.9305647015571594\n"
     ]
    }
   ],
   "source": [
    "result = predict(text,model)  \n",
    "print(result)\n",
    "print(np.mean(result.sentiment_score))"
   ]
  },
  {
   "cell_type": "code",
   "execution_count": null,
   "metadata": {},
   "outputs": [],
   "source": []
  }
 ],
 "metadata": {
  "interpreter": {
   "hash": "916dbcbb3f70747c44a77c7bcd40155683ae19c65e1c03b4aa3499c5328201f1"
  },
  "kernelspec": {
   "display_name": "Python 3.8.10 64-bit",
   "language": "python",
   "name": "python3"
  },
  "language_info": {
   "codemirror_mode": {
    "name": "ipython",
    "version": 3
   },
   "file_extension": ".py",
   "mimetype": "text/x-python",
   "name": "python",
   "nbconvert_exporter": "python",
   "pygments_lexer": "ipython3",
   "version": "3.8.10"
  },
  "orig_nbformat": 4
 },
 "nbformat": 4,
 "nbformat_minor": 2
}
